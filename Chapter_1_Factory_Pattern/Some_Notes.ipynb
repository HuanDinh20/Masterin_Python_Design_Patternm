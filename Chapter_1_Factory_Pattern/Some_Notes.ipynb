{
 "cells": [
  {
   "cell_type": "markdown",
   "source": [
    "# The Factory Pattern\n",
    "Design pattern are reusable programing solutions that have been used in various real world contexts, and have proved to produce expected results.\n",
    "### Here is a quote about design patterns from the Gang of Four book:\n",
    "A design pattern systematically names, motivates, and explains, a general design that addresses a recurring design pattern problem in oop. It describes the problem, the solution, when to apply its solution, and its consequences. It also gives hints and examples. The solution is a general arrangement of objects and classes that solve the problem. The solution is customized and implemented to solve the problem in a particular context.\n",
    "#### There are several categories of design patterns used in oop, splitting in three categories:\n",
    "1. Creation\n",
    "2. Structural\n",
    "3. Behavioral\n",
    "#### In Factory Design Pattern\n",
    "a client asks for an object without knowing where the object is  coming from (which class is used to generate it).\n",
    "The idea behind a factory is to simplify the object creation process.\n",
    "It is easier to track which object are created if this is done through a central function, compare to letting a client create objects using a direct class instantiation.\n",
    "A factory reduce the complexity of maintaining an application by decoupling the code that creates an object from the code that uses it.\n",
    "Factories typically come from 2 form:\n",
    "1. The Factory Method\n",
    "2. The abstract factory\n",
    "## The Factory method\n",
    "The factory method is based on a single function written to handle our object creation task.\n",
    "We execute it, passing a parameter that provides information about what we want, and, as\n",
    "a result, the wanted object is created.\n",
    "Interestingly, when using the factory method, we are not required to know any details\n",
    "about how the resulting object is implemented and where it is coming from"
   ],
   "metadata": {
    "collapsed": false,
    "pycharm": {
     "name": "#%% md\n"
    }
   }
  },
  {
   "cell_type": "markdown",
   "source": [
    "## Real-world examples\n",
    "An example in real world application is a plastic toy construction kit:\n",
    "1. The same molding material\n",
    "2. Different toys come from different mold\n",
    "3. Input: the name of the toy (duck or car), the output (after molding) is the plastic toy that was requested\n",
    "In the software world, the Django web framework uses the factory method pattern for\n",
    "creating the fields of a web form:\n",
    "4. forms module supports creation of different kind of fields\n",
    "5. Parts of their behavior can be customized"
   ],
   "metadata": {
    "collapsed": false,
    "pycharm": {
     "name": "#%% md\n"
    }
   }
  },
  {
   "cell_type": "markdown",
   "source": [
    "## Use Cases\n",
    "1. Cannot track the objects created by your application because the code that creates them is in many different places instead of a single function/ method\n",
    "2. Decouple object creation from object usage\n",
    "3. Improving the performance and memory usage by creating of an application\n",
    "###### Note that it is absolutely fine to create more than one factory method,"
   ],
   "metadata": {
    "collapsed": false,
    "pycharm": {
     "name": "#%% md\n"
    }
   }
  },
  {
   "cell_type": "markdown",
   "source": [
    "## Implementing the factory method\n",
    "There are two file categories for storing/ retrieving data:\n",
    "1. Human-readable files\n",
    "2. Binary files\n"
   ],
   "metadata": {
    "collapsed": false,
    "pycharm": {
     "name": "#%% md\n"
    }
   }
  }
 ],
 "metadata": {
  "kernelspec": {
   "display_name": "Python 3",
   "language": "python",
   "name": "python3"
  },
  "language_info": {
   "codemirror_mode": {
    "name": "ipython",
    "version": 2
   },
   "file_extension": ".py",
   "mimetype": "text/x-python",
   "name": "python",
   "nbconvert_exporter": "python",
   "pygments_lexer": "ipython2",
   "version": "2.7.6"
  }
 },
 "nbformat": 4,
 "nbformat_minor": 0
}